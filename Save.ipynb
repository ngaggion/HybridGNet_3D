{
 "cells": [
  {
   "cell_type": "code",
   "execution_count": 4,
   "metadata": {},
   "outputs": [
    {
     "name": "stdout",
     "output_type": "stream",
     "text": [
      "Done\n"
     ]
    }
   ],
   "source": [
    "import trimesh\n",
    "import numpy as np\n",
    "\n",
    "vertices = np.load(\"/home/ngaggion/Documentos/Leeds/1000739/time001/fhm_original.npy\")\n",
    "faces = np.load(\"/home/ngaggion/Documentos/Leeds/faces_fhm_numpy.npy\")\n",
    "trimesh.Trimesh(vertices, faces).export(\"good.stl\")\n",
    "print(\"Done\")"
   ]
  }
 ],
 "metadata": {
  "kernelspec": {
   "display_name": "Python 3.9.12 ('pytorch3d')",
   "language": "python",
   "name": "python3"
  },
  "language_info": {
   "codemirror_mode": {
    "name": "ipython",
    "version": 3
   },
   "file_extension": ".py",
   "mimetype": "text/x-python",
   "name": "python",
   "nbconvert_exporter": "python",
   "pygments_lexer": "ipython3",
   "version": "3.9.12"
  },
  "orig_nbformat": 4,
  "vscode": {
   "interpreter": {
    "hash": "f6d926f6f962ef7522084f294cb9b3f690e1199d46c143ea24a9237ec5d38dae"
   }
  }
 },
 "nbformat": 4,
 "nbformat_minor": 2
}
