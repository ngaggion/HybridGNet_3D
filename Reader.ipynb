{
 "cells": [
  {
   "cell_type": "code",
   "execution_count": null,
   "metadata": {},
   "outputs": [],
   "source": [
    "from utils.SaxImage import SAXImage\n",
    "from utils.LaxImage import LAXImage\n",
    "import SimpleITK as sitk\n",
    "import os\n",
    "import numpy as np\n",
    "import cv2\n",
    "from skimage import transform\n",
    "from torchvision import transforms\n",
    "import torch\n",
    "\n",
    "subject = \"/home/ngaggion/Documentos/Leeds/Dataset/Subjects/1030914/image/time001\"\n",
    "\n",
    "SAX_PATH = os.path.join(subject, \"SAX\")\n",
    "LAX_PATH = os.path.join(subject, \"LAX\")\n",
    "LAX_2CH_PATH = os.path.join(LAX_PATH, \"2CH\", '0001')\n",
    "LAX_3CH_PATH = os.path.join(LAX_PATH, \"3CH\", '0001')\n",
    "LAX_4CH_PATH = os.path.join(LAX_PATH, \"4CH\", '0001')\n",
    "\n",
    "SaxImage = SAXImage(SAX_PATH)\n",
    "SaxImage_array = SaxImage.pixel_array()\n",
    "SaxImage_array = (SaxImage_array - np.min(SaxImage_array)) / (np.max(SaxImage_array) - np.min(SaxImage_array))\n",
    "\n",
    "try:\n",
    "    Lax2CH = LAXImage(LAX_2CH_PATH)\n",
    "    Lax2CH_array = Lax2CH.pixel_array()\n",
    "    Lax2CH_array = (Lax2CH_array - np.min(Lax2CH_array)) / (np.max(Lax2CH_array) - np.min(Lax2CH_array))\n",
    "except:\n",
    "    Lax2CH = None\n",
    "    Lax2CH_array = np.zeros((224, 224, 1))\n",
    "\n",
    "try:\n",
    "    Lax3CH = LAXImage(LAX_3CH_PATH)\n",
    "    Lax3CH_array = Lax3CH.pixel_array()\n",
    "    Lax3CH_array = (Lax3CH_array - np.min(Lax3CH_array)) / (np.max(Lax3CH_array) - np.min(Lax3CH_array))\n",
    "except:\n",
    "    Lax3CH = None\n",
    "    Lax3CH_array = np.zeros((224, 224, 1))\n",
    "    \n",
    "try:\n",
    "    Lax4CH = LAXImage(LAX_4CH_PATH)\n",
    "    Lax4CH_array = Lax4CH.pixel_array()\n",
    "    Lax4CH_array = (Lax4CH_array - np.min(Lax4CH_array)) / (np.max(Lax4CH_array) - np.min(Lax4CH_array))\n",
    "except:\n",
    "    Lax4CH = None\n",
    "    Lax4CH_array = np.zeros((224, 224, 1))\n",
    "\n",
    "mesh = np.load(os.path.join(subject.replace(\"image\", \"mesh\"), \"surface.npy\"))\n",
    "\n",
    "sample = {'SAX': SaxImage, 'LAX2CH': Lax2CH, 'LAX3CH': Lax3CH, 'LAX4CH': Lax4CH, 'Mesh': mesh,\n",
    "          'Sax_Array': SaxImage_array, 'Lax2CH_Array': Lax2CH_array, 'Lax3CH_Array': Lax3CH_array, 'Lax4CH_Array': Lax4CH_array}"
   ]
  },
  {
   "cell_type": "code",
   "execution_count": null,
   "metadata": {},
   "outputs": [],
   "source": [
    "from utils.dataset import (CardiacImageMeshDataset, PadArraysToSquareShape, CropArraysToSquareShape, \n",
    "                            RandomCropBoth, RandomScalingBoth, AugColor, Rotate,\n",
    "                            ToTorchTensors, AlignMeshWithSaxImage)\n",
    " \n",
    " \n",
    "all_transforms = transforms.Compose([\n",
    "                                    AlignMeshWithSaxImage(),\n",
    "                                    RandomCropBoth(),\n",
    "                                    AugColor(0.5),\n",
    "                                    Rotate(5),\n",
    "                                    ToTorchTensors()\n",
    "                                ])"
   ]
  },
  {
   "cell_type": "code",
   "execution_count": null,
   "metadata": {},
   "outputs": [],
   "source": [
    "sample = all_transforms(sample)"
   ]
  },
  {
   "cell_type": "code",
   "execution_count": null,
   "metadata": {},
   "outputs": [],
   "source": [
    "import matplotlib.pyplot as plt\n",
    "\n",
    "mesh = sample[\"Mesh\"]\n",
    "m1 = mesh[:, 2] < (7 / 16) * (mesh[:, 2] > (5 / 16))\n",
    "m1 = mesh[m1, :] * 100\n",
    "\n",
    "m2 = mesh[:, 2] < (9 / 16) * (mesh[:, 2] > (7 / 16))\n",
    "m2 = mesh[m2, :] * 100\n",
    "\n",
    "m3 = mesh[:, 2] < (11 / 16) * (mesh[:, 2] > (9 / 16))\n",
    "m3 = mesh[m3, :] * 100\n",
    "\n",
    "plt.figure(figsize=(20, 20))\n",
    "\n",
    "plt.subplot(2, 3, 1)\n",
    "plt.imshow(sample[\"Sax_Array\"][0, 7, :, :].cpu().numpy(), cmap=\"gray\")\n",
    "plt.scatter(m1[:, 0], m1[:, 1], s=1, c=\"red\")\n",
    "\n",
    "plt.subplot(2, 3, 2)\n",
    "plt.imshow(sample[\"Sax_Array\"][0, 9, :, :].cpu().numpy(), cmap=\"gray\")\n",
    "plt.scatter(m2[:, 0], m2[:, 1], s=1, c=\"red\")\n",
    "\n",
    "plt.subplot(2, 3, 3)\n",
    "plt.imshow(sample[\"Sax_Array\"][0, 11, :, :].cpu().numpy(), cmap=\"gray\")\n",
    "plt.scatter(m3[:, 0], m3[:, 1], s=1, c=\"red\")\n",
    "\n",
    "plt.subplot(2, 3, 4)\n",
    "plt.imshow(sample[\"Lax2CH_Array\"][0, :, :].cpu().numpy(), cmap=\"gray\")\n",
    "\n",
    "plt.subplot(2, 3, 5)\n",
    "plt.imshow(sample[\"Lax3CH_Array\"][0, :, :].cpu().numpy(), cmap=\"gray\")\n",
    "\n",
    "plt.subplot(2, 3, 6)\n",
    "plt.imshow(sample[\"Lax4CH_Array\"][0, :, :].cpu().numpy(), cmap=\"gray\")\n",
    "\n",
    "plt.tight_layout()\n"
   ]
  }
 ],
 "metadata": {
  "kernelspec": {
   "display_name": "Python 3.9.12 ('pytorch3d')",
   "language": "python",
   "name": "python3"
  },
  "language_info": {
   "codemirror_mode": {
    "name": "ipython",
    "version": 3
   },
   "file_extension": ".py",
   "mimetype": "text/x-python",
   "name": "python",
   "nbconvert_exporter": "python",
   "pygments_lexer": "ipython3",
   "version": "3.9.12"
  },
  "orig_nbformat": 4,
  "vscode": {
   "interpreter": {
    "hash": "f6d926f6f962ef7522084f294cb9b3f690e1199d46c143ea24a9237ec5d38dae"
   }
  }
 },
 "nbformat": 4,
 "nbformat_minor": 2
}
