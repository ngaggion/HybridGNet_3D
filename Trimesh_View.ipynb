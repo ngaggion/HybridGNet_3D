{
 "cells": [
  {
   "cell_type": "code",
   "execution_count": null,
   "metadata": {},
   "outputs": [],
   "source": [
    "import trimesh\n",
    "import numpy as np\n",
    "\n",
    "faces = np.load(\"../Dataset/SurfaceFiles/faces_fhm_numpy.npy\").astype(np.int32)\n",
    "\n",
    "gt = np.load(\"/home/ngaggion/Documentos/Leeds/Dataset/Subjects/1222421/mesh/time001/surface.npy\")\n",
    "points = np.load(\"/home/ngaggion/Documentos/Leeds/Predictions/Surface/surface_roi_ds_1_lap_01/Meshes/1222421/time001/mesh.npy\")"
   ]
  },
  {
   "cell_type": "code",
   "execution_count": null,
   "metadata": {},
   "outputs": [],
   "source": [
    "trimesh.Trimesh(vertices=points, faces=faces).show()"
   ]
  },
  {
   "cell_type": "code",
   "execution_count": null,
   "metadata": {},
   "outputs": [],
   "source": [
    "gt"
   ]
  },
  {
   "cell_type": "code",
   "execution_count": null,
   "metadata": {},
   "outputs": [],
   "source": [
    "points"
   ]
  },
  {
   "cell_type": "code",
   "execution_count": null,
   "metadata": {},
   "outputs": [],
   "source": [
    "trimesh.Trimesh(vertices=gt, faces=faces).show()"
   ]
  }
 ],
 "metadata": {
  "kernelspec": {
   "display_name": "Python 3.9.12 ('pytorch3d')",
   "language": "python",
   "name": "python3"
  },
  "language_info": {
   "codemirror_mode": {
    "name": "ipython",
    "version": 3
   },
   "file_extension": ".py",
   "mimetype": "text/x-python",
   "name": "python",
   "nbconvert_exporter": "python",
   "pygments_lexer": "ipython3",
   "version": "3.9.12"
  },
  "orig_nbformat": 4,
  "vscode": {
   "interpreter": {
    "hash": "f6d926f6f962ef7522084f294cb9b3f690e1199d46c143ea24a9237ec5d38dae"
   }
  }
 },
 "nbformat": 4,
 "nbformat_minor": 2
}
