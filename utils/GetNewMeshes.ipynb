{
 "cells": [
  {
   "cell_type": "code",
   "execution_count": 7,
   "metadata": {},
   "outputs": [
    {
     "name": "stderr",
     "output_type": "stream",
     "text": [
      "WARNING: In /tmp/SimpleITK-build/ITK-prefix/include/ITK-5.2/itkImageSeriesReader.hxx, line 480\n",
      "ImageSeriesReader (0x55ca558d9b80): Non uniform sampling or missing slices detected,  maximum nonuniformity:0.87271\n",
      "\n",
      "WARNING: In /tmp/SimpleITK-build/ITK-prefix/include/ITK-5.2/itkImageSeriesReader.hxx, line 480\n",
      "ImageSeriesReader (0x55ca558d9b80): Non uniform sampling or missing slices detected,  maximum nonuniformity:0.87271\n",
      "\n",
      "WARNING: In /tmp/SimpleITK-build/ITK-prefix/include/ITK-5.2/itkImageSeriesReader.hxx, line 480\n",
      "ImageSeriesReader (0x55ca558d9b80): Non uniform sampling or missing slices detected,  maximum nonuniformity:24.0569\n",
      "\n"
     ]
    }
   ],
   "source": [
    "import pandas as pd \n",
    "from utils.SaxImage import SAXImage\n",
    "import SimpleITK as sitk\n",
    "import os\n",
    "import numpy as np\n",
    "\n",
    "train_splits = \"/home/ngaggion/Documentos/Leeds/splits/train_split.csv\"\n",
    "test_splits = \"/home/ngaggion/Documentos/Leeds/splits/test_split.csv\"\n",
    "\n",
    "train_splits = pd.read_csv(train_splits)\n",
    "test_splits = pd.read_csv(test_splits)\n",
    "\n",
    "# Get only the subject and time columns\n",
    "\n",
    "train_splits = train_splits[['subject', 'time']]\n",
    "test_splits = test_splits[['subject', 'time']]\n",
    "\n",
    "splits = [train_splits, test_splits]\n",
    "\n",
    "for split in splits:\n",
    "    for index, row in split.iterrows():\n",
    "        subject = str(row['subject'])\n",
    "        time = row['time']\n",
    "        \n",
    "        path = \"/home/ngaggion/Documentos/Leeds/Dataset/Images/\" + subject + \"/image/\" + time \n",
    "        \n",
    "        SAX_PATH = os.path.join(path, \"SAX\")\n",
    "        SaxImage = SAXImage(SAX_PATH)\n",
    "        img1 = SaxImage.SaxImage\n",
    "        \n",
    "        img2_path = \"/home/ngaggion/Documentos/Leeds/Dataset/Old/SAX_VTK/\" + subject + \"/image_SAX_\" + time[4:] + \".vtk\"\n",
    "        img2 = sitk.ReadImage(img2_path)\n",
    "            \n",
    "        mesh_path = \"/home/ngaggion/Documentos/Leeds/Dataset/Meshes/DownsampledMeshes/\" + subject + \"/\" + time + \"/fhm.npy\"\n",
    "        point_set_modified = np.load(mesh_path)\n",
    "        \n",
    "        # Get the image properties of the image with modified metadata\n",
    "        direction_modified = np.array(img2.GetDirection()).reshape((3, 3))\n",
    "        origin_modified = np.array(img2.GetOrigin())\n",
    "\n",
    "        # Get the image properties of the image with original metadata\n",
    "        direction_original = np.array(img1.GetDirection()).reshape((3, 3))\n",
    "        origin_original = np.array(img1.GetOrigin())\n",
    "\n",
    "        # Compute the transformation from modified to original physical space\n",
    "        direction_transform = np.linalg.inv(direction_modified) @ direction_original\n",
    "\n",
    "        # Apply the transformation to the point set to obtain the points in the original physical space\n",
    "        point_set_original = np.dot(point_set_modified - origin_modified, direction_transform.T) + origin_original\n",
    "\n",
    "        # Save the point set\n",
    "        \n",
    "        outpath = path = \"/home/ngaggion/Documentos/Leeds/Dataset/Images/\" + subject + \"/mesh/\" + time + \"/\"\n",
    "        \n",
    "        try:\n",
    "            os.makedirs(outpath)\n",
    "        except:\n",
    "            pass\n",
    "        \n",
    "        np.save(outpath + \"surface.npy\", point_set_original)    "
   ]
  }
 ],
 "metadata": {
  "kernelspec": {
   "display_name": "Python 3.10.6 64-bit",
   "language": "python",
   "name": "python3"
  },
  "language_info": {
   "codemirror_mode": {
    "name": "ipython",
    "version": 3
   },
   "file_extension": ".py",
   "mimetype": "text/x-python",
   "name": "python",
   "nbconvert_exporter": "python",
   "pygments_lexer": "ipython3",
   "version": "3.10.6"
  },
  "orig_nbformat": 4,
  "vscode": {
   "interpreter": {
    "hash": "31f2aee4e71d21fbe5cf8b01ff0e069b9275f58929596ceb00d14d90e3e16cd6"
   }
  }
 },
 "nbformat": 4,
 "nbformat_minor": 2
}
